{
 "cells": [
  {
   "cell_type": "code",
   "execution_count": 15,
   "id": "0df09498",
   "metadata": {},
   "outputs": [
    {
     "name": "stdout",
     "output_type": "stream",
     "text": [
      "3.57 µs ± 79.7 ns per loop (mean ± std. dev. of 7 runs, 100000 loops each)\n"
     ]
    }
   ],
   "source": [
    "# try out https://pypi.org/project/lempel-ziv-complexity/\n",
    "from lempel_ziv_complexity import lempel_ziv_complexity\n",
    "s = '1001111011000010'\n",
    "%timeit lempel_ziv_complexity(s)"
   ]
  },
  {
   "cell_type": "code",
   "execution_count": 16,
   "id": "19aacc76",
   "metadata": {},
   "outputs": [
    {
     "data": {
      "text/plain": [
       "10000"
      ]
     },
     "execution_count": 16,
     "metadata": {},
     "output_type": "execute_result"
    }
   ],
   "source": [
    "# load file of common dutch words\n",
    "with open(\"dutch.txt\", 'r') as file:\n",
    "    words = file.read().splitlines()\n",
    "    \n",
    "len(words)"
   ]
  },
  {
   "cell_type": "code",
   "execution_count": 17,
   "id": "d7086b31",
   "metadata": {},
   "outputs": [
    {
     "data": {
      "text/plain": [
       "1000011"
      ]
     },
     "execution_count": 17,
     "metadata": {},
     "output_type": "execute_result"
    }
   ],
   "source": [
    "import random\n",
    "\n",
    "# generate a string of given size (1M) of randomly picked dutch words\n",
    "size = 1000000\n",
    "s = \"\"\n",
    "while len(s) < size:\n",
    "    s += words[random.randrange(0,len(words))]\n",
    "len(s)"
   ]
  },
  {
   "cell_type": "code",
   "execution_count": 18,
   "id": "28359f89",
   "metadata": {
    "scrolled": true
   },
   "outputs": [
    {
     "name": "stdout",
     "output_type": "stream",
     "text": [
      "299 ms ± 3.72 ms per loop (mean ± std. dev. of 7 runs, 1 loop each)\n"
     ]
    }
   ],
   "source": [
    "%timeit lempel_ziv_complexity(s)"
   ]
  }
 ],
 "metadata": {
  "kernelspec": {
   "display_name": "Python 3 (ipykernel)",
   "language": "python",
   "name": "python3"
  },
  "language_info": {
   "codemirror_mode": {
    "name": "ipython",
    "version": 3
   },
   "file_extension": ".py",
   "mimetype": "text/x-python",
   "name": "python",
   "nbconvert_exporter": "python",
   "pygments_lexer": "ipython3",
   "version": "3.10.6"
  }
 },
 "nbformat": 4,
 "nbformat_minor": 5
}
